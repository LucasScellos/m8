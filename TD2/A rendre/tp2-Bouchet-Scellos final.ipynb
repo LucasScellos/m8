{
 "cells": [
  {
   "cell_type": "markdown",
   "metadata": {},
   "source": [
    "# M8 - TP2 : Analyse monovariable\n",
    "Le but du TP est de à décrire une seule variable.\n",
    "\n"
   ]
  },
  {
   "cell_type": "code",
   "execution_count": 1,
   "metadata": {},
   "outputs": [],
   "source": [
    "import matplotlib.pyplot as plt\n",
    "import numpy as np"
   ]
  },
  {
   "cell_type": "markdown",
   "metadata": {},
   "source": [
    "|ex1|ex2|\n",
    "|:-:|:-:|\n",
    "|![](ex1.png) |![](ex2.png)|"
   ]
  },
  {
   "cell_type": "markdown",
   "metadata": {},
   "source": [
    "## Ex. 1: Correction d'examen\n",
    "Un professeur souhaite étudier statistiquement les notes sur 10 obtenues par ses élèves à un examen. Les résultats sont donnés dans le tableau ci-dessous.\n",
    "\\begin{array}{c|c}\n",
    "Nom & Note \\\\\n",
    "  \\hline\n",
    "mike &6\\\\\n",
    "bob &5\\\\\n",
    "evan &9\\\\\n",
    "ruppert &3\\\\\n",
    "aaron &3\\\\\n",
    "steve &1\\\\\n",
    "zachariy &9\\\\\n",
    "logan &6\\\\\n",
    "roger &5\\\\\n",
    "don &6\\\\\n",
    "bill &5\\\\\n",
    "ron &6\\\\\n",
    "karl &5\\\\\n",
    "stefen &7\\\\\n",
    "tom &5\\\\\n",
    "neil &10\\\\\n",
    "john &2\\\\\n",
    "george &1\\\\\n",
    "dave &1\\\\\n",
    "tim &1\n",
    "\\end{array}"
   ]
  },
  {
   "cell_type": "markdown",
   "metadata": {},
   "source": [
    "1. Quelles sont les différentes modalités possibles et celles observées ?"
   ]
  },
  {
   "cell_type": "code",
   "execution_count": 2,
   "metadata": {},
   "outputs": [
    {
     "data": {
      "text/plain": [
       "array([ 1,  2,  3,  5,  6,  7,  9, 10])"
      ]
     },
     "execution_count": 2,
     "metadata": {},
     "output_type": "execute_result"
    }
   ],
   "source": [
    "x = np.array([6, 5, 9, 3, 3, 1, 9, 6, 5, 6, 5, 6, 5, 7, 5, 10, 2, 1, 1, 1])\n",
    "Mx = np.unique(x)  # Modalités\n",
    "Mx"
   ]
  },
  {
   "cell_type": "markdown",
   "metadata": {},
   "source": [
    "2. Le code suivant calcule les effectifs cumulés de chaque modalité. Calculez les effectifs cummulés d'une autre manière et vérifier que les résultats sont déjà les mêmes"
   ]
  },
  {
   "cell_type": "code",
   "execution_count": 3,
   "metadata": {},
   "outputs": [
    {
     "data": {
      "text/plain": [
       "array([ 4.,  5.,  7., 12., 16., 17., 19., 20.])"
      ]
     },
     "execution_count": 3,
     "metadata": {},
     "output_type": "execute_result"
    }
   ],
   "source": [
    "_,counts = np.unique(x, return_counts=True)\n",
    "Ni = np.zeros(counts.shape)\n",
    "Ni[0] = counts[0]\n",
    "for i in range(0, len(Ni) - 1):\n",
    "    Ni[i+1] = Ni[i] + counts[i+1]\n",
    "Ni\n",
    "\n"
   ]
  },
  {
   "cell_type": "code",
   "execution_count": 4,
   "metadata": {},
   "outputs": [
    {
     "data": {
      "text/plain": [
       "20"
      ]
     },
     "execution_count": 4,
     "metadata": {},
     "output_type": "execute_result"
    }
   ],
   "source": [
    "len(x)"
   ]
  },
  {
   "cell_type": "code",
   "execution_count": 5,
   "metadata": {},
   "outputs": [
    {
     "data": {
      "text/plain": [
       "array([ 4.,  5.,  7., 12., 16., 17., 19., 20.])"
      ]
     },
     "execution_count": 5,
     "metadata": {},
     "output_type": "execute_result"
    }
   ],
   "source": [
    "ni = np.zeros(Mx.shape)\n",
    "\n",
    "for i in range(len(Mx)):\n",
    "    ni[i] = np.sum(x==Mx[i])\n",
    "\n",
    "Ni = np.cumsum(ni)\n",
    "Ni\n"
   ]
  },
  {
   "cell_type": "markdown",
   "metadata": {},
   "source": [
    "3. Calculez les effectifs par modalité, les fréquences et les fréquences cumulées des notes et affichez-les"
   ]
  },
  {
   "cell_type": "code",
   "execution_count": 10,
   "metadata": {},
   "outputs": [
    {
     "name": "stdout",
     "output_type": "stream",
     "text": [
      "--------------------------------------------------------\n",
      "\n",
      " modalites n_i N_i f_i F_i \n",
      "\n",
      "--------------------------------------µ------------------\n",
      "\n",
      "1  -  4  -  4.0  -  0.2  -  0.2\n",
      "2  -  1  -  5.0  -  0.05  -  0.25\n",
      "3  -  2  -  7.0  -  0.1  -  0.35\n",
      "5  -  5  -  12.0  -  0.25  -  0.6\n",
      "6  -  4  -  16.0  -  0.2  -  0.8\n",
      "7  -  1  -  17.0  -  0.05  -  0.85\n",
      "9  -  2  -  19.0  -  0.1  -  0.95\n",
      "10  -  1  -  20.0  -  0.05  -  1.0\n"
     ]
    }
   ],
   "source": [
    "ni = counts # Effectifs par modalité \n",
    "fi = ni/x.shape  # Fréquences\n",
    "Fi = Ni/x.shape   # Fréquences cumulées\n",
    "\n",
    "print('--------------------------------------------------------\\n')\n",
    "print(' modalites n_i N_i f_i F_i \\n')\n",
    "print('--------------------------------------µ------------------\\n')\n",
    "\n",
    "for i in range(len(Mx)):\n",
    "    print(Mx[i],' - ', ni[i],' - ',  Ni[i],' - ', fi[i],' - ', Fi[i])"
   ]
  },
  {
   "cell_type": "markdown",
   "metadata": {},
   "source": [
    "4. Tracez la fonction de répartition empirique des notes."
   ]
  },
  {
   "cell_type": "code",
   "execution_count": 12,
   "metadata": {},
   "outputs": [
    {
     "data": {
      "text/plain": [
       "[<matplotlib.lines.Line2D at 0x7fab70242390>]"
      ]
     },
     "execution_count": 12,
     "metadata": {},
     "output_type": "execute_result"
    },
    {
     "data": {
      "image/png": "[encoded data removed]",
      "text/plain": [
       "<matplotlib.figure.Figure at 0x7fab702423c8>"
      ]
     },
     "metadata": {},
     "output_type": "display_data"
    }
   ],
   "source": [
    "plt.grid(True)\n",
    "plt.plot(Mx,Fi, 'o-')"
   ]
  },
  {
   "cell_type": "markdown",
   "metadata": {},
   "source": [
    "5. Déterminez graphiquement la médiane et les quartiles des notes"
   ]
  },
  {
   "cell_type": "markdown",
   "metadata": {},
   "source": [
    "Médiane : 4.2\n",
    "\n",
    "Q1 : 2\n",
    "\n",
    "Q3 : 5.8"
   ]
  },
  {
   "cell_type": "markdown",
   "metadata": {},
   "source": [
    "6. En déduire le DIQ"
   ]
  },
  {
   "cell_type": "markdown",
   "metadata": {},
   "source": [
    "DIQ : 5.8 - 2 = 3.8"
   ]
  },
  {
   "cell_type": "markdown",
   "metadata": {},
   "source": [
    "7. Dessinez la boite à moustache associée sur une feuille.\n",
    "\n",
    "    a) Est-ce la même que la figure 1 ?\n",
    "\n",
    "    b) Selon vos calculs, y a-t-il une variable aberrante parmi ces notes ?"
   ]
  },
  {
   "cell_type": "code",
   "execution_count": 15,
   "metadata": {},
   "outputs": [
    {
     "data": {
      "text/plain": [
       "{'boxes': [<matplotlib.lines.Line2D at 0x7fab6e0fcc88>],\n",
       " 'caps': [<matplotlib.lines.Line2D at 0x7fab6e1076d8>,\n",
       "  <matplotlib.lines.Line2D at 0x7fab6e107b00>],\n",
       " 'fliers': [<matplotlib.lines.Line2D at 0x7fab6e10f390>],\n",
       " 'means': [],\n",
       " 'medians': [<matplotlib.lines.Line2D at 0x7fab6e107f28>],\n",
       " 'whiskers': [<matplotlib.lines.Line2D at 0x7fab6e0fcdd8>,\n",
       "  <matplotlib.lines.Line2D at 0x7fab6e1072b0>]}"
      ]
     },
     "execution_count": 15,
     "metadata": {},
     "output_type": "execute_result"
    },
    {
     "data": {
      "image/png": "[encoded data removed]",
      "text/plain": [
       "<matplotlib.figure.Figure at 0x7fab6e212780>"
      ]
     },
     "metadata": {},
     "output_type": "display_data"
    }
   ],
   "source": [
    "plt.boxplot(x)\n"
   ]
  },
  {
   "cell_type": "markdown",
   "metadata": {},
   "source": [
    "a) La médiane et le premier quartile parait plus élévé sur la boite à moustache. Le Q3 semble de meme valeur.\n",
    "\n",
    "b) Non pour nous il n'y a pas de valeurs aberrantes, car toutes nos valeurs sont dans l'épure."
   ]
  },
  {
   "cell_type": "markdown",
   "metadata": {},
   "source": [
    "8. On souhaite connaitre la valeur centrale de l’ensemble de nos observations $x_i$, $i = 1, n$.\n",
    "On modélise ce problème à travers une fonction coût $J$ :\n",
    "\n",
    "    $J(c) = -\\sum^{i=1}_{n}c(\\log\\frac{x_i}{c} + 1)$\n",
    "    \n",
    "    a) Donnez l’expression de c en fonction des $xi, i = 1, n$ qui minimise le coût $J$.\n",
    "    \n",
    "    b) Application numérique : calculez c pour les données observées."
   ]
  },
  {
   "cell_type": "markdown",
   "metadata": {},
   "source": [
    "a) $c = exp[ (1/n)*\\sum^{i=1}_{n}log(x_i) ]  $\n",
    "   "
   ]
  },
  {
   "cell_type": "code",
   "execution_count": null,
   "metadata": {},
   "outputs": [],
   "source": [
    "c = np.exp((1/n)*(np.sum(np.log(x[i]))))\n"
   ]
  },
  {
   "cell_type": "code",
   "execution_count": 35,
   "metadata": {},
   "outputs": [
    {
     "data": {
      "text/plain": [
       "3.8090399649559123"
      ]
     },
     "execution_count": 35,
     "metadata": {},
     "output_type": "execute_result"
    }
   ],
   "source": [
    "n = len(x)\n",
    "c = np.exp(np.mean(np.log(x))) \n",
    "c"
   ]
  },
  {
   "cell_type": "markdown",
   "metadata": {},
   "source": [
    "## Ex. 2: Le petit-déjeuner"
   ]
  },
  {
   "cell_type": "markdown",
   "metadata": {},
   "source": [
    "1. Récupérez le fichier cereal.mat sur moodle. Ce fichier contient les mesures des ingrédients de céréales pour petit déjeuner. Sur chaque type de céréale, 8 variables ont été mesurées. Ces variables sont (dans l’ordre) :\n",
    "\n",
    "    - Calories: la teneur en calories (le nombre pour un repas)\n",
    "    - Carbo: la teneur en carbohydrates (en gramme pour un repas)\n",
    "    - Cups: le nombre de tasse recommandé par repas\n",
    "    - Fat: la teneur en graisse (en gramme pour un repas)\n",
    "    - Fiber: la teneur en fibres alimentaires (en gramme pour un repas)\n",
    "    - Potass: la teneur en potassium (en mg pour un repas)\n",
    "    - Protein: la teneur en proteine (en gramme pour un repas)\n",
    "    - Sugars: la teneur en sucre (en gramme pour un repas)\n",
    "    \n",
    "    Ce fichier se décompose (entre autres) en la matrice X qui contient toutes les données, et le tableau Name qui contient les noms des marques.\n",
    "    \n",
    "    Chargez le fichier, puis extrayez la matrice X et le tableau Name. Calculer le nombre de marques de céréales présentes dans la base de données.\n",
    "    "
   ]
  },
  {
   "cell_type": "code",
   "execution_count": 44,
   "metadata": {},
   "outputs": [],
   "source": [
    "import scipy.io as sio\n",
    "mat = sio.loadmat(\"cereal.mat\")\n",
    "X = mat[\"X\"]\n",
    "Name = mat[\"Name\"]\n"
   ]
  },
  {
   "cell_type": "markdown",
   "metadata": {},
   "source": [
    "2. Nous allons commencer par nous intéresser à la deuxième variable (Carbo) uniquement."
   ]
  },
  {
   "cell_type": "code",
   "execution_count": 42,
   "metadata": {},
   "outputs": [
    {
     "data": {
      "text/plain": [
       "array([ 5. ,  8. ,  7. ,  8. , 14. , 10.5, 11. , 18. , 15. , 13. , 12. ,\n",
       "       17. , 13. , 13. , 12. , 22. , 21. , 13. , 12. , 10. , 21. , 21. ,\n",
       "       11. , 18. , 11. , 14. , 14. , 12. , 14. , 13. , 11. , 15. , 15. ,\n",
       "       17. , 13. , 12. , 11.5, 14. , 17. , 20. , 21. , 12. , 12. , 16. ,\n",
       "       16. , 16. , 17. , 15. , 15. , 21. , 18. , 13.5, 11. , 20. , 13. ,\n",
       "       10. , 14. , -1. , 14. , 10.5, 15. , 23. , 22. , 16. , 19. , 20. ,\n",
       "        9. , 16. , 15. , 21. , 15. , 16. , 21. , 13. , 17. , 17. , 16. ])"
      ]
     },
     "execution_count": 42,
     "metadata": {},
     "output_type": "execute_result"
    }
   ],
   "source": [
    "x = X[:,1]\n",
    "x"
   ]
  },
  {
   "cell_type": "markdown",
   "metadata": {},
   "source": [
    "3. Dessinez la boite à moustache associée"
   ]
  },
  {
   "cell_type": "code",
   "execution_count": 45,
   "metadata": {},
   "outputs": [
    {
     "data": {
      "text/plain": [
       "{'boxes': [<matplotlib.lines.Line2D at 0x7fab5b79ff28>],\n",
       " 'caps': [<matplotlib.lines.Line2D at 0x7fab5b729978>,\n",
       "  <matplotlib.lines.Line2D at 0x7fab5b729da0>],\n",
       " 'fliers': [<matplotlib.lines.Line2D at 0x7fab5b730630>],\n",
       " 'means': [],\n",
       " 'medians': [<matplotlib.lines.Line2D at 0x7fab5b730208>],\n",
       " 'whiskers': [<matplotlib.lines.Line2D at 0x7fab5b7290b8>,\n",
       "  <matplotlib.lines.Line2D at 0x7fab5b729550>]}"
      ]
     },
     "execution_count": 45,
     "metadata": {},
     "output_type": "execute_result"
    },
    {
     "data": {
      "image/png": "[encoded data removed]",
      "text/plain": [
       "<matplotlib.figure.Figure at 0x7fab6e0aed68>"
      ]
     },
     "metadata": {},
     "output_type": "display_data"
    }
   ],
   "source": [
    "plt.boxplot(x)"
   ]
  },
  {
   "cell_type": "markdown",
   "metadata": {},
   "source": [
    "4. calculez la moyenne de la variable (Carbo)"
   ]
  },
  {
   "cell_type": "code",
   "execution_count": 48,
   "metadata": {},
   "outputs": [
    {
     "data": {
      "text/plain": [
       "14.597402597402597"
      ]
     },
     "execution_count": 48,
     "metadata": {},
     "output_type": "execute_result"
    }
   ],
   "source": [
    "moy = np.mean(x)\n",
    "moy"
   ]
  },
  {
   "cell_type": "markdown",
   "metadata": {},
   "source": [
    "## Ex. 3: Assimilation"
   ]
  },
  {
   "cell_type": "markdown",
   "metadata": {},
   "source": [
    "1. Soit m une moyenne connue et $\\lambda$ un facteur de confiance connu lui aussi. On souhaite connaitre la valeur centrale d’un ensemble de points $x_i, i = 1, n$, sachant que cette valeur doit être proche de $m$ avec une confiance $\\lambda$. On modélise ce problème à travers une fonction coût $J$ :\n",
    "\n",
    "    $J(c) = \\sum^n_{i=1}(x_i - c)^2 + \\lambda(c-m)^2$\n",
    "\n",
    "    a) Donnez l’expression de $c$ qui minimise le coût $J$.\n",
    "\n",
    "    b) Application numérique : calculez $c$ pour $m = 153$, $\\lambda = 20$, $n = 10$ et $x1, . . . , x10 = 140, 145, 151, 155, 140, 125, 132, 129, 163, 133$"
   ]
  },
  {
   "cell_type": "markdown",
   "metadata": {},
   "source": [
    "a $J'(c) = -2*\\sum^n_{i=1}(x_i - c)+ 2*\\lambda(c-m)$\n",
    "\n",
    "$c=\\frac{\\sum^n_{i=1}(x_i) +\\lambda*m}{n + \\lambda}$\n",
    "\n"
   ]
  },
  {
   "cell_type": "code",
   "execution_count": 12,
   "metadata": {},
   "outputs": [
    {
     "name": "stdout",
     "output_type": "stream",
     "text": [
      "b)\n"
     ]
    },
    {
     "data": {
      "text/plain": [
       "149.1"
      ]
     },
     "execution_count": 12,
     "metadata": {},
     "output_type": "execute_result"
    }
   ],
   "source": [
    "x = [140,145,151,155,140,125,132,129,163,133]\n",
    "lmbda = 20\n",
    "m = 153\n",
    "n = len(x)\n",
    "c = (np.sum(x)+lmbda*m)/(n + lmbda)\n",
    "print('b)')\n",
    "c"
   ]
  },
  {
   "cell_type": "code",
   "execution_count": null,
   "metadata": {},
   "outputs": [],
   "source": []
  }
 ],
 "metadata": {
  "kernelspec": {
   "display_name": "Python 3",
   "language": "python",
   "name": "python3"
  },
  "language_info": {
   "codemirror_mode": {
    "name": "ipython",
    "version": 3
   },
   "file_extension": ".py",
   "mimetype": "text/x-python",
   "name": "python",
   "nbconvert_exporter": "python",
   "pygments_lexer": "ipython3",
   "version": "3.7.1"
  }
 },
 "nbformat": 4,
 "nbformat_minor": 2
}
