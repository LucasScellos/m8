{
 "cells": [
  {
   "cell_type": "markdown",
   "metadata": {},
   "source": [
    "# M8 - TP3 : Couples de variable\n",
    "Le but du TP est de à décrire les couples de variables."
   ]
  },
  {
   "cell_type": "markdown",
   "metadata": {},
   "source": [
    "|2.2|2.6|\n",
    "|:-:|:-:|\n",
    "|![](boxplot.png) |![](bagplot.png)|"
   ]
  },
  {
   "cell_type": "code",
   "execution_count": 1,
   "metadata": {},
   "outputs": [],
   "source": [
    "import numpy as np\n",
    "import matplotlib.pyplot as plt\n",
    "import scipy.io as sio\n",
    "import scipy.spatial as ssp"
   ]
  },
  {
   "cell_type": "markdown",
   "metadata": {},
   "source": [
    "## Ex. 1 : Échauffement"
   ]
  },
  {
   "cell_type": "markdown",
   "metadata": {},
   "source": [
    "Montrer que :\n",
    "\n",
    "\\begin{equation}\n",
    "\\frac{1}{n}\\sum^n_{i=1}(x_i - \\bar{x})(y_i - \\bar{y}) = \\frac{1}{c}(n\\sum^n_{i=1}(x_i y_i - \\sum^n_{i=1}x_i\\sum^n_{i=1}y_i))\n",
    "\\end{equation}\n",
    "\n",
    "avec un $c$ que l'on précisera"
   ]
  },
  {
   "cell_type": "markdown",
   "metadata": {},
   "source": [
    "\\begin{align}\n",
    "    \\frac{1}{n} \\sum^n_{i=1}(x_i - \\bar{x}) (y_i - \\bar{y}) &= ??? \\\\\n",
    "    &= ??? \\\\\n",
    "    &= ??? \\\\\n",
    "    &= \\frac{1}{c} (n\\sum^n_{i=1} (x_i y_i - \\sum^n_{i=1} x_i \\sum^n_{i=1} y_i))\n",
    "\\end{align}"
   ]
  },
  {
   "cell_type": "markdown",
   "metadata": {},
   "source": [
    "# Sol(c) = x^2"
   ]
  },
  {
   "cell_type": "markdown",
   "metadata": {},
   "source": [
    "# Ex. 2 : Continues vs continues"
   ]
  },
  {
   "cell_type": "markdown",
   "metadata": {},
   "source": [
    "1. Récupérez le fichier data3.mat sur moodle et construisez un tableau X de n lignes et deux colonnes (deux variables). "
   ]
  },
  {
   "cell_type": "code",
   "execution_count": 3,
   "metadata": {},
   "outputs": [
    {
     "data": {
      "text/plain": [
       "(37, 2)"
      ]
     },
     "execution_count": 3,
     "metadata": {},
     "output_type": "execute_result"
    }
   ],
   "source": [
    "mat = sio.loadmat(\"data3.mat\")\n",
    "X = mat[\"data3\"].T\n",
    "n = len(X)\n",
    "X.shape"
   ]
  },
  {
   "cell_type": "markdown",
   "metadata": {},
   "source": [
    "2. Représentez ces données comme un nuage de point et dessinez les boite à moustaches associées à chacune des variables (affichées dans la figure 1 à gauche)."
   ]
  },
  {
   "cell_type": "code",
   "execution_count": 5,
   "metadata": {},
   "outputs": [
    {
     "data": {
      "text/plain": [
       "Text(0.5,1,'Boite pour Y')"
      ]
     },
     "execution_count": 5,
     "metadata": {},
     "output_type": "execute_result"
    },
    {
     "data": {
      "image/png": "[encoded data removed]",
      "text/plain": [
       "<matplotlib.figure.Figure at 0x7f45dedab630>"
      ]
     },
     "metadata": {},
     "output_type": "display_data"
    }
   ],
   "source": [
    "plt.figure(figsize=(8,8))  # Ajustement graphique\n",
    "\n",
    "plt.subplot(2,2,2)\n",
    "plt.stem(X[:,0],X[:,1],'ob')\n",
    "plt.axis([0,1,0,2])\n",
    "plt.title('Nuage de points')\n",
    "plt.xlabel('X')\n",
    "plt.ylabel('Y')\n",
    "\n",
    "plt.subplot(4,2,6)\n",
    "plt.subplots_adjust(hspace=0.4, wspace=0.3)  # Ajustement graphique\n",
    "plt.boxplot(X[:,0],0,'+',0)\n",
    "plt.axis([0,1,0.75,1.25])\n",
    "plt.title('Boite a moustache pour X')\n",
    "\n",
    "\n",
    "plt.subplot(2,4,2)\n",
    "plt.boxplot(X[:,1],0,'+',1)\n",
    "a = plt.axis()\n",
    "plt.axis([a[0], a[1], 0, 2])\n",
    "plt.title('Boite pour Y')"
   ]
  },
  {
   "cell_type": "markdown",
   "metadata": {},
   "source": [
    "3. . Calculez la covariance entre les variables de trois manières différentes (dont une utilisera la fonction cov de Numpy). Vérifiez que vous obtenez bien le même résultat. Ces deux variables sont elles liées ou sont elles indépendantes ?"
   ]
  },
  {
   "cell_type": "code",
   "execution_count": 18,
   "metadata": {},
   "outputs": [
    {
     "data": {
      "text/plain": [
       "array([0.49670811, 0.64721351])"
      ]
     },
     "execution_count": 18,
     "metadata": {},
     "output_type": "execute_result"
    }
   ],
   "source": [
    "c = np.mean(X,0) #fait la moyenne sur les collones \n",
    "c"
   ]
  },
  {
   "cell_type": "code",
   "execution_count": 21,
   "metadata": {},
   "outputs": [
    {
     "data": {
      "text/plain": [
       "array([[ 0.10200586, -0.00178846],\n",
       "       [-0.00178846,  0.29635222]])"
      ]
     },
     "execution_count": 21,
     "metadata": {},
     "output_type": "execute_result"
    }
   ],
   "source": [
    "Mc\n"
   ]
  },
  {
   "cell_type": "code",
   "execution_count": 30,
   "metadata": {},
   "outputs": [
    {
     "data": {
      "text/plain": [
       "(2, 2)"
      ]
     },
     "execution_count": 30,
     "metadata": {},
     "output_type": "execute_result"
    }
   ],
   "source": [
    "Mc.shape"
   ]
  },
  {
   "cell_type": "code",
   "execution_count": 20,
   "metadata": {},
   "outputs": [
    {
     "data": {
      "text/plain": [
       "-0.0017884644338933523"
      ]
     },
     "execution_count": 20,
     "metadata": {},
     "output_type": "execute_result"
    }
   ],
   "source": [
    "Xc = X - np.ones((n, 1))*c\n",
    "Mc = (Xc.T @ Xc) / n\n",
    "cv = (Xc[:, 0].T @ Xc[:, 1]) / n\n",
    "cv"
   ]
  },
  {
   "cell_type": "code",
   "execution_count": 22,
   "metadata": {},
   "outputs": [
    {
     "data": {
      "text/plain": [
       "-0.0017884644338934715"
      ]
     },
     "execution_count": 22,
     "metadata": {},
     "output_type": "execute_result"
    }
   ],
   "source": [
    "c = np.mean(X, axis=0)\n",
    "a = np.sum(X[:,0])\n",
    "b = np.sum(X[:,1])\n",
    "Cv = ((n*X[:,0].T@ X[:,1])-(a*b))/(n*n)\n",
    "Cv"
   ]
  },
  {
   "cell_type": "code",
   "execution_count": 23,
   "metadata": {},
   "outputs": [
    {
     "data": {
      "text/plain": [
       "array([[ 0.10200586, -0.00178846],\n",
       "       [-0.00178846,  0.29635222]])"
      ]
     },
     "execution_count": 23,
     "metadata": {},
     "output_type": "execute_result"
    }
   ],
   "source": [
    "(np.cov(X.T)*(n-1))/n"
   ]
  },
  {
   "cell_type": "markdown",
   "metadata": {},
   "source": [
    "4. Calculez la corrélation entre les variables de trois manières (dont une utilisera la fonction corrcoef de Numpy). Vérifiez que vous obtenez bien le même résultat."
   ]
  },
  {
   "cell_type": "code",
   "execution_count": 29,
   "metadata": {},
   "outputs": [
    {
     "data": {
      "text/plain": [
       "-0.010286405751159354"
      ]
     },
     "execution_count": 29,
     "metadata": {},
     "output_type": "execute_result"
    }
   ],
   "source": [
    "vx = (Xc[:, 0].T @ Xc[:, 0]) / n\n",
    "vy = (Xc[:, 1].T @ Xc[:, 1]) / n\n",
    "c = Cv / (np.sqrt(vx)*np.sqrt(vy))\n",
    "c"
   ]
  },
  {
   "cell_type": "code",
   "execution_count": 37,
   "metadata": {},
   "outputs": [
    {
     "data": {
      "text/plain": [
       "-0.010286405751159355"
      ]
     },
     "execution_count": 37,
     "metadata": {},
     "output_type": "execute_result"
    }
   ],
   "source": [
    "diag = np.diag(Mc)\n",
    "c = Cv / (np.sqrt(diag[0])*np.sqrt(diag[1]))\n",
    "c"
   ]
  },
  {
   "cell_type": "code",
   "execution_count": 26,
   "metadata": {},
   "outputs": [
    {
     "data": {
      "text/plain": [
       "array([[ 1.        , -0.01028641],\n",
       "       [-0.01028641,  1.        ]])"
      ]
     },
     "execution_count": 26,
     "metadata": {},
     "output_type": "execute_result"
    }
   ],
   "source": [
    "np.corrcoef(X.T)"
   ]
  },
  {
   "cell_type": "markdown",
   "metadata": {},
   "source": [
    "5. Calculez la médiane de Tukey de ce nuage de points. Comparez avec le résultat de la fonction median de Numpy"
   ]
  },
  {
   "cell_type": "code",
   "execution_count": 23,
   "metadata": {},
   "outputs": [
    {
     "data": {
      "text/plain": [
       "[<matplotlib.lines.Line2D at 0x2a0e3ab77f0>]"
      ]
     },
     "execution_count": 23,
     "metadata": {},
     "output_type": "execute_result"
    },
    {
     "data": {
      "image/png": "[encoded data removed]",
      "text/plain": [
       "<Figure size 432x288 with 1 Axes>"
      ]
     },
     "metadata": {
      "needs_background": "light"
     },
     "output_type": "display_data"
    }
   ],
   "source": [
    "plt.scatter(X[:, 0], X[:, 1])\n",
    "m = np.median(X, axis=0)\n",
    "plt.plot(m[0], m[1], \"sk\")"
   ]
  },
  {
   "cell_type": "markdown",
   "metadata": {},
   "source": [
    "Nombre de points : n = 37"
   ]
  },
  {
   "cell_type": "markdown",
   "metadata": {},
   "source": [
    "6. Dessinez le sac médian"
   ]
  },
  {
   "cell_type": "code",
   "execution_count": 50,
   "metadata": {},
   "outputs": [
    {
     "data": {
      "text/plain": [
       "[<matplotlib.lines.Line2D at 0x253c9a4de10>]"
      ]
     },
     "execution_count": 50,
     "metadata": {},
     "output_type": "execute_result"
    },
    {
     "data": {
      "image/png": "[encoded data removed]",
      "text/plain": [
       "<Figure size 432x288 with 1 Axes>"
      ]
     },
     "metadata": {
      "needs_background": "light"
     },
     "output_type": "display_data"
    }
   ],
   "source": [
    "plt.scatter(X[:, 0], X[:, 1])\n",
    "\n",
    "c1 = ssp.ConvexHull(X)\n",
    "for point in c1.simplices:\n",
    "    plt.plot(X[point, 0], X[point, 1], 'r-')\n",
    "\n",
    "Xcopy = np.copy(X)\n",
    "Xcopy = np.delete(Xcopy, c1.simplices, axis=0)\n",
    "c2 = ssp.ConvexHull(Xcopy)\n",
    "for point in c2.simplices:\n",
    "    plt.plot(Xcopy[point, 0], Xcopy[point, 1], 'g-')\n",
    "    \n",
    "c2 = ssp.ConvexHull(Xcopy)\n",
    "for point in c2.simplices:\n",
    "    plt.plot(Xcopy[point, 0], Xcopy[point, 1], 'g-')\n",
    "    \n",
    "Xcopy2 = np.copy(Xcopy)\n",
    "Xcopy2 = np.delete(Xcopy2, c2.simplices, axis=0)\n",
    "\n",
    "\n",
    "\n",
    "c3 = ssp.ConvexHull(Xcopy2)\n",
    "for point in c3.simplices:\n",
    "    plt.plot(Xcopy2[point, 0], Xcopy2[point, 1], 'y-')\n",
    "    \n",
    "Xcopy3 = np.copy(Xcopy2)\n",
    "Xcopy3 = np.delete(Xcopy3, c3.simplices, axis=0)\n",
    "\n",
    "c4 = ssp.ConvexHull(Xcopy3)\n",
    "for point in c4.simplices:\n",
    "    plt.plot(Xcopy3[point, 0], Xcopy3[point, 1], 'b-')\n",
    "    \n",
    "Xcopy4 = np.copy(Xcopy3)\n",
    "Xcopy4 = np.delete(Xcopy4, c4.simplices, axis=0)\n",
    "\n",
    "\n",
    "c5 = ssp.ConvexHull(Xcopy4)\n",
    "for point in c5.simplices:\n",
    "    plt.plot(Xcopy4[point, 0], Xcopy4[point, 1], 'm-')\n",
    "    \n",
    "M = np.median(Xcopy4, axis=0)\n",
    "Mm = np.median(X, axis=0)\n",
    "plt.plot(M[0], M[1], \"*k\")\n",
    "plt.plot(Mm[0], Mm[1], 'sk')"
   ]
  },
  {
   "cell_type": "markdown",
   "metadata": {},
   "source": [
    "## Ex. 3 : Sudoku"
   ]
  },
  {
   "cell_type": "markdown",
   "metadata": {},
   "source": [
    "Nous avons le tableau de contingence incomplet suivant :\n",
    "\n",
    "\\begin{array}{|c||c|c|c||c|}\n",
    "\\hline\n",
    " X \\setminus Y & y_1 = 1 & y_2 = 4 & y_3 = 8 & \\text{Marginal de }X\\ \\mathbb{P}(X) \\\\\n",
    " \\hline \\hline\n",
    " x_1 &0.1 &  0.2 &  0.3  &   0.6 \\\\\n",
    " \\hline\n",
    " x_2 & 0.2   & 0.15  & 0.05   & 0.4   \\\\\n",
    " \\hline\\hline\n",
    " \\text{Marginal de } Y\\ \\mathbb{P}(Y) &0.3& 0.35   &  0.35  &1   \\\\\n",
    " \\hline\n",
    "\\end{array}\n",
    "\n",
    "De plus, nous disposons de l’information suivante :\n",
    "\\begin{equation}\n",
    "     \\mathbb{P}(Y = y_1 |X = x_2) = \\frac{1}{2}\n",
    "\\end{equation}\n",
    "\n",
    "\\begin{equation}\n",
    "     \\mathbb{P}(Y = y_3 |X = x_1) = \\frac{1}{2}\n",
    "\\end{equation}\n",
    "\n",
    "\\begin{equation}\n",
    "     \\mathbb{E}(Y|X = x_2) = 3\n",
    "\\end{equation}"
   ]
  },
  {
   "cell_type": "markdown",
   "metadata": {},
   "source": [
    "1. Compléter le tableau de contingence"
   ]
  },
  {
   "cell_type": "markdown",
   "metadata": {},
   "source": [
    "2. Les variables $X$ et $Y$ sont elles indépendantes ? \n",
    "    Si X et Y indépendante alors P(X et Y) = P(X)* P(Y) \n",
    "    Or ici, P(x2ety1) = 0.2 et P(x2)* P(y1)= 0.4 * 0.3 = 0.12"
   ]
  },
  {
   "cell_type": "markdown",
   "metadata": {},
   "source": [
    "**Astuce**: Pour le calculer le plus rapidement, suivez l'ordre suivant :\n",
    "\n",
    "\\begin{array}{|c||c|c|c||c|}\n",
    "\\hline\n",
    " X \\setminus Y & y_1 = 1 & y_2 = 4 & y_3 = 8 & \\text{Marginal de }X\\ \\mathbb{P}(X) \\\\\n",
    " \\hline \\hline\n",
    " x_1 &0.1 & \\textbf{5}  & \\textbf{4}   &  \\textbf{3}  \\\\\n",
    " \\hline\n",
    " x_2 &  \\textbf{1}  &  \\textbf{6} &  \\textbf{7}  &  \\textbf{2}  \\\\\n",
    " \\hline\\hline\n",
    " \\text{Marginal de } Y\\ \\mathbb{P}(Y) &0.3&  \\textbf{8}  &  \\textbf{9}  &1   \\\\\n",
    " \\hline\n",
    "\\end{array}\n",
    "\n",
    "De plus, les variables **6 et 7** s'obtiennent en résolvant un système de deux équations à deux inconnues"
   ]
  },
  {
   "cell_type": "markdown",
   "metadata": {},
   "source": [
    "## Ex. 4 : Matrices de contingence"
   ]
  },
  {
   "cell_type": "markdown",
   "metadata": {},
   "source": [
    "1. Récupérer le fichier DataExo1.mat sur Moodle. . Les détails sur ces données sont disponibles https://archive.ics.uci.edu/ml/datasets/Student+Performance. Ces données décrivent les résultats des élèves dans l’enseignement secondaire de deux écoles portugaises."
   ]
  },
  {
   "cell_type": "code",
   "execution_count": 8,
   "metadata": {},
   "outputs": [],
   "source": [
    "mat = sio.loadmat(\"DataExo1.mat\")"
   ]
  },
  {
   "cell_type": "markdown",
   "metadata": {},
   "source": [
    "2. On commence par s’intéresser aux deux premières variables qui codent pour l’école $x$ et le genre $g$ de la personne interviewée."
   ]
  },
  {
   "cell_type": "code",
   "execution_count": 17,
   "metadata": {},
   "outputs": [],
   "source": [
    "x = mat[\"DataExo1\"][:, 0]\n",
    "g = mat[\"DataExo1\"][:, 1]\n",
    "n=len(x)\n"
   ]
  },
  {
   "cell_type": "markdown",
   "metadata": {},
   "source": [
    "3. Construisez le tableau de contingence $O$ entre les variables $x$ et $g$"
   ]
  },
  {
   "cell_type": "code",
   "execution_count": 10,
   "metadata": {},
   "outputs": [
    {
     "data": {
      "text/plain": [
       "array([[166., 183.],\n",
       "       [ 21.,  25.]])"
      ]
     },
     "execution_count": 10,
     "metadata": {},
     "output_type": "execute_result"
    }
   ],
   "source": [
    "O = np.zeros((2,2))\n",
    "O[0,0] = np.sum(np.logical_and((x == 0), (g == 0)))\n",
    "O[1,0] = np.sum(np.logical_and((x == 1), (g == 0)))\n",
    "O[0,1] = np.sum(np.logical_and((x == 0), (g == 1)))\n",
    "O[1,1] = np.sum(np.logical_and((x == 1), (g == 1)))\n",
    "O"
   ]
  },
  {
   "cell_type": "markdown",
   "metadata": {},
   "source": [
    "4. Construisez le tableau théorique associé en supposant l’indépendance des deux variables."
   ]
  },
  {
   "cell_type": "code",
   "execution_count": 27,
   "metadata": {},
   "outputs": [
    {
     "name": "stdout",
     "output_type": "stream",
     "text": [
      "[[165.22278481 183.77721519]\n",
      " [ 21.77721519  24.22278481]]\n",
      "[[166. 183.]\n",
      " [ 21.  25.]]\n"
     ]
    },
    {
     "data": {
      "text/plain": [
       "array([[ 0.77721519, -0.77721519],\n",
       "       [-0.77721519,  0.77721519]])"
      ]
     },
     "execution_count": 27,
     "metadata": {},
     "output_type": "execute_result"
    }
   ],
   "source": [
    "M1 = np.sum(O, axis=0)\n",
    "Mc = np.sum(O, axis=1)\n",
    "T = np.outer(M1, Mc).T /(n)\n",
    "print(T)\n",
    "print(O)\n",
    "O-T"
   ]
  },
  {
   "cell_type": "markdown",
   "metadata": {},
   "source": [
    "5. Calculez la distance du chi2 entre les variables x et g. Ces deux variables sont elles liées ou sont elles indépendantes ?"
   ]
  },
  {
   "cell_type": "code",
   "execution_count": 29,
   "metadata": {},
   "outputs": [
    {
     "data": {
      "text/plain": [
       "0.059619131674428574"
      ]
     },
     "execution_count": 29,
     "metadata": {},
     "output_type": "execute_result"
    }
   ],
   "source": [
    "D2 = np.sum((O-T)*(O-T)/T)\n",
    "D2\n",
    "#Les variables sont indépendates, en effet la distance D2 est très proche de 0. Il n'y a donc pas  de corrélation\n",
    "#entre le genre de l'enfant et son école"
   ]
  },
  {
   "cell_type": "markdown",
   "metadata": {},
   "source": [
    "6. On s’intéresse maintenant à la septième variable $Me$ qui code le niveau d’éducation des mère de la manière suivante :\n",
    "\n",
    "    * 0 - none,\n",
    "    * 1 - primary education (4th grade),\n",
    "    * 2 - 5th to 9th grade,\n",
    "    * 3 - secondary education\n",
    "    * 4 - higher education\n",
    "\n",
    "Récupérez cette variable et calculez les effectifs de chacune des modalités. Qu’en concluez vous ?"
   ]
  },
  {
   "cell_type": "code",
   "execution_count": 13,
   "metadata": {},
   "outputs": [
    {
     "data": {
      "text/plain": [
       "(array([0, 1, 2, 3, 4], dtype=uint8), array([  2,  82, 115, 100,  96]))"
      ]
     },
     "execution_count": 13,
     "metadata": {},
     "output_type": "execute_result"
    }
   ],
   "source": [
    "Me = mat[\"DataExo1\"][:, 7]\n",
    "m = np.unique(np.sort(Me), return_counts=True)\n",
    "n = len(Me)\n",
    "m\n",
    "\n",
    "#On peux en conclure que, la modalité la plus reprenseté est les mères qui ont arreté l'école entre le 5th et le 9th."
   ]
  },
  {
   "cell_type": "markdown",
   "metadata": {},
   "source": [
    "7. Construisez le tableau de contingence N entre les variables $x$ et $Me$"
   ]
  },
  {
   "cell_type": "code",
   "execution_count": 14,
   "metadata": {},
   "outputs": [
    {
     "data": {
      "text/plain": [
       "array([[  2.,  67., 103.,  90.,  87.],\n",
       "       [  0.,  15.,  12.,  10.,   9.]])"
      ]
     },
     "execution_count": 14,
     "metadata": {},
     "output_type": "execute_result"
    }
   ],
   "source": [
    "N = np.zeros((2,5))\n",
    "N[0,0] = np.sum(np.logical_and((x==0), (Me==0)))\n",
    "N[0,1] = np.sum(np.logical_and((x==0), (Me==1)))\n",
    "N[0,2] = np.sum(np.logical_and((x==0), (Me==2)))\n",
    "N[0,3] = np.sum(np.logical_and((x==0), (Me==3)))\n",
    "N[0,4] = np.sum(np.logical_and((x==0), (Me==4)))\n",
    "N[1,0] = np.sum(np.logical_and((x==1), (Me==0)))\n",
    "N[1,1] = np.sum(np.logical_and((x==1), (Me==1)))\n",
    "N[1,2] = np.sum(np.logical_and((x==1), (Me==2)))\n",
    "N[1,3] = np.sum(np.logical_and((x==1), (Me==3)))\n",
    "N[1,4] = np.sum(np.logical_and((x==1), (Me==4)))\n",
    "N\n"
   ]
  },
  {
   "cell_type": "markdown",
   "metadata": {},
   "source": [
    "8. Construisez le tableau théorique associé en supposant l’indépendance des deux variables."
   ]
  },
  {
   "cell_type": "code",
   "execution_count": 15,
   "metadata": {},
   "outputs": [
    {
     "data": {
      "text/plain": [
       "array([[  1.76708861,  72.45063291, 101.60759494,  88.35443038,\n",
       "         84.82025316],\n",
       "       [  0.23291139,   9.54936709,  13.39240506,  11.64556962,\n",
       "         11.17974684]])"
      ]
     },
     "execution_count": 15,
     "metadata": {},
     "output_type": "execute_result"
    }
   ],
   "source": [
    "M1 = np.sum(N, axis=0)\n",
    "Mc = np.sum(N, axis=1)\n",
    "T = np.outer(M1, Mc).T /(n)\n",
    "T"
   ]
  },
  {
   "cell_type": "markdown",
   "metadata": {},
   "source": [
    "9. Calculez la distance du chi2 entre les variables $x$ et $Me$. Ces deux variables $x$ et $Me$ sont elles liées ou sont elles indépendantes ? Que peut on en déduire sur le choix de l’école ?"
   ]
  },
  {
   "cell_type": "code",
   "execution_count": 16,
   "metadata": {},
   "outputs": [
    {
     "data": {
      "text/plain": [
       "4.692843315148199"
      ]
     },
     "execution_count": 16,
     "metadata": {},
     "output_type": "execute_result"
    }
   ],
   "source": [
    "D2 = np.sum((N-T)*(N-T)/T)\n",
    "D2\n",
    "\n",
    "###4,7 proche de 0. On peux en déduire que les variables sont indépendantes. Il n'y a donc pas de lien entre \n",
    "###le choix de l'école et l'éducation des mères"
   ]
  },
  {
   "cell_type": "code",
   "execution_count": null,
   "metadata": {},
   "outputs": [],
   "source": []
  },
  {
   "cell_type": "code",
   "execution_count": null,
   "metadata": {},
   "outputs": [],
   "source": []
  }
 ],
 "metadata": {
  "kernelspec": {
   "display_name": "Python 3",
   "language": "python",
   "name": "python3"
  },
  "language_info": {
   "codemirror_mode": {
    "name": "ipython",
    "version": 3
   },
   "file_extension": ".py",
   "mimetype": "text/x-python",
   "name": "python",
   "nbconvert_exporter": "python",
   "pygments_lexer": "ipython3",
   "version": "3.6.7"
  }
 },
 "nbformat": 4,
 "nbformat_minor": 2
}
